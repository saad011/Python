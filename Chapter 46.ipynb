{
 "cells": [
  {
   "cell_type": "code",
   "execution_count": 26,
   "metadata": {},
   "outputs": [
    {
     "name": "stdout",
     "output_type": "stream",
     "text": [
      "The winner was Real Madrid\n",
      "The score was 1-0\n"
     ]
    }
   ],
   "source": [
    "def display_result(winner, score, ):\n",
    " print(\"The winner was \" + winner)\n",
    " print(\"The score was \" + score)\n",
    "display_result(winner=\"Real Madrid\", score=\"1-0\")\n"
   ]
  },
  {
   "cell_type": "code",
   "execution_count": 36,
   "metadata": {},
   "outputs": [
    {
     "ename": "IndentationError",
     "evalue": "expected an indented block (<ipython-input-36-e1557409de4d>, line 5)",
     "output_type": "error",
     "traceback": [
      "\u001b[1;36m  File \u001b[1;32m\"<ipython-input-36-e1557409de4d>\"\u001b[1;36m, line \u001b[1;32m5\u001b[0m\n\u001b[1;33m    print(key + \": \" + value)\u001b[0m\n\u001b[1;37m        ^\u001b[0m\n\u001b[1;31mIndentationError\u001b[0m\u001b[1;31m:\u001b[0m expected an indented block\n"
     ]
    }
   ],
   "source": [
    "def display_result(winner, score, **other_info):\n",
    " print(\"The winner was \" + winner)\n",
    " print(\"The score was \" + score)\n",
    " for key, value in other_info.items():\n",
    " print(key + \": \" + value)\n",
    "display_result(winner=\"Real Madrid\", score=\"1-0\", overtime =\"yes\", injuries=\"none\")\n"
   ]
  },
  {
   "cell_type": "code",
   "execution_count": null,
   "metadata": {},
   "outputs": [],
   "source": []
  },
  {
   "cell_type": "code",
   "execution_count": 31,
   "metadata": {},
   "outputs": [
    {
     "name": "stdout",
     "output_type": "stream",
     "text": [
      "100\n",
      "200\n",
      "(300, 400, 500)\n"
     ]
    }
   ],
   "source": [
    "display_nums(100, 200, 300, 400, 500)\n",
    "\n",
    "def display_nums(first_num, second_num,*opt_nums):\n",
    " print(first_num)\n",
    " print(second_num)\n",
    " print(opt_nums)\n"
   ]
  },
  {
   "cell_type": "code",
   "execution_count": null,
   "metadata": {},
   "outputs": [],
   "source": []
  }
 ],
 "metadata": {
  "kernelspec": {
   "display_name": "Python 3",
   "language": "python",
   "name": "python3"
  },
  "language_info": {
   "codemirror_mode": {
    "name": "ipython",
    "version": 3
   },
   "file_extension": ".py",
   "mimetype": "text/x-python",
   "name": "python",
   "nbconvert_exporter": "python",
   "pygments_lexer": "ipython3",
   "version": "3.6.5"
  }
 },
 "nbformat": 4,
 "nbformat_minor": 2
}
