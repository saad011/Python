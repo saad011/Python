{
 "cells": [
  {
   "cell_type": "code",
   "execution_count": 16,
   "metadata": {},
   "outputs": [
    {
     "ename": "SyntaxError",
     "evalue": "invalid syntax (<ipython-input-16-d99ed427b698>, line 4)",
     "output_type": "error",
     "traceback": [
      "\u001b[1;36m  File \u001b[1;32m\"<ipython-input-16-d99ed427b698>\"\u001b[1;36m, line \u001b[1;32m4\u001b[0m\n\u001b[1;33m    {\"customer id\": 1, \"first name\":\"Ann\",\"last name\": \"Sattermyer\",\"address\": \"PO Box 1145\",}\u001b[0m\n\u001b[1;37m    ^\u001b[0m\n\u001b[1;31mSyntaxError\u001b[0m\u001b[1;31m:\u001b[0m invalid syntax\n"
     ]
    }
   ],
   "source": [
    "customer_ids = [101, 102, 103]\n",
    "customers = [\n",
    "    {\"customer id\": 0, \"first name\":\"John\", \"last name\": \"Ogden\",\"address\": \"301 Arbor Rd.\"}\n",
    "            {\"customer id\": 1, \"first name\":\"Ann\",\"last name\": \"Sattermyer\",\"address\": \"PO Box 1145\",}\n",
    "             {\"customer id\": 2,\"first name\":\"Jill\",\"last name\": \"Somers\", \"address\": \"3 Main St.\",}\n",
    "            ]"
   ]
  },
  {
   "cell_type": "code",
   "execution_count": null,
   "metadata": {},
   "outputs": [],
   "source": []
  },
  {
   "cell_type": "code",
   "execution_count": null,
   "metadata": {},
   "outputs": [],
   "source": []
  }
 ],
 "metadata": {
  "kernelspec": {
   "display_name": "Python 3",
   "language": "python",
   "name": "python3"
  },
  "language_info": {
   "codemirror_mode": {
    "name": "ipython",
    "version": 3
   },
   "file_extension": ".py",
   "mimetype": "text/x-python",
   "name": "python",
   "nbconvert_exporter": "python",
   "pygments_lexer": "ipython3",
   "version": "3.6.5"
  }
 },
 "nbformat": 4,
 "nbformat_minor": 2
}
