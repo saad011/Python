{
 "cells": [
  {
   "cell_type": "code",
   "execution_count": 16,
   "metadata": {},
   "outputs": [
    {
     "name": "stdout",
     "output_type": "stream",
     "text": [
      "Hello there, Al\n"
     ]
    }
   ],
   "source": [
    "give_greeting(\"Hello there\", first_name=\"Al\")\n",
    "def give_greeting(greeting, first_name):\n",
    " print(greeting + \", \" + first_name)\n",
    "\n"
   ]
  },
  {
   "cell_type": "code",
   "execution_count": 21,
   "metadata": {},
   "outputs": [],
   "source": [
    "def give_greeting(greeting, first_name, flattering_nickname=\" the wonder boy\"):\n",
    " print(greeting + \", \" + first_name + flattering_nickname)\n",
    "customers = {\n",
    " 0: {\n",
    "        \"first name\":\"John\",\n",
    "        \"last name\": \"Ogden\",\n",
    "        \"address\": \"301 Arbor Rd.\",\n",
    "    },\n",
    " 1: {\n",
    "        \"first name\":\"Ann\",\n",
    "        \"last name\": \"Sattermyer\",\n",
    "        \"address\": \"PO Box 1145\",\n",
    "    },\n",
    " 2: {\n",
    "        \"first name\":\"Jill\",\n",
    "        \"last name\": \"Somers\",\n",
    "        \"address\": \"3 Main St.\",\n",
    "    },\n",
    "}"
   ]
  },
  {
   "cell_type": "code",
   "execution_count": 23,
   "metadata": {},
   "outputs": [],
   "source": [
    "def find_something(dict, inner_dict, target):\n",
    " print(dict[inner_dict][target])"
   ]
  },
  {
   "cell_type": "code",
   "execution_count": 25,
   "metadata": {},
   "outputs": [
    {
     "name": "stdout",
     "output_type": "stream",
     "text": [
      "{'first name': 'John', 'last name': 'Ogden', 'address': '301 Arbor Rd.'}\n"
     ]
    }
   ],
   "source": [
    "print (customers [0])"
   ]
  },
  {
   "cell_type": "code",
   "execution_count": null,
   "metadata": {},
   "outputs": [],
   "source": []
  }
 ],
 "metadata": {
  "kernelspec": {
   "display_name": "Python 3",
   "language": "python",
   "name": "python3"
  },
  "language_info": {
   "codemirror_mode": {
    "name": "ipython",
    "version": 3
   },
   "file_extension": ".py",
   "mimetype": "text/x-python",
   "name": "python",
   "nbconvert_exporter": "python",
   "pygments_lexer": "ipython3",
   "version": "3.6.5"
  }
 },
 "nbformat": 4,
 "nbformat_minor": 2
}
