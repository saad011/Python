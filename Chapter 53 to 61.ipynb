{
 "cells": [
  {
   "cell_type": "code",
   "execution_count": 46,
   "metadata": {},
   "outputs": [
    {
     "name": "stdout",
     "output_type": "stream",
     "text": [
      "61\n"
     ]
    }
   ],
   "source": [
    "class Patient():\n",
    " def __init__(self, last_name, first_name, age):\n",
    "    self.last_name = last_name\n",
    "    self.first_name = first_name\n",
    "    self.age = age\n",
    " def say_if_minor(self):\n",
    "    if self.age < 21:\n",
    "        print(\"This patient is a minor\")\n",
    "pid4343 = Patient(\"Taleb\", \"Sue\", 61)\n",
    "pid4344 = Patient(\"Anand\", \"Punya\", 29)\n",
    "pid4345 = Patient(\"Oppenheimer\", \"Douglas\", 15)\n",
    "pid4346 = Patient(\"Lin\", \"Lilly\", 48)\n",
    "pid12902 = Patient(\"Nilsson\", \"Rhonda\", 33)\n",
    "age_of_patient = pid4343.age\n",
    "print(pid4343.age)\n",
    " \n",
    "\n"
   ]
  },
  {
   "cell_type": "code",
   "execution_count": 36,
   "metadata": {},
   "outputs": [],
   "source": [
    "def say_if_minor(patient_first_name, patient_last_name, patient_age):\n",
    " if patient_age < 21:\n",
    "     print(patient_first_name + \" \" + patient_last_name + \" is a minor\")"
   ]
  },
  {
   "cell_type": "code",
   "execution_count": 44,
   "metadata": {},
   "outputs": [],
   "source": [
    "say_if_minor(pid4343.first_name, pid4343.last_name, pid4343.age)\n"
   ]
  },
  {
   "cell_type": "code",
   "execution_count": 45,
   "metadata": {},
   "outputs": [],
   "source": [
    "def say_if_minor(patient_first_name, patient_last_name, patient_age):\n",
    " if patient_age < 21:\n",
    "    print(patient_first_name + \" \" + patient_last_name + \" is a minor\")"
   ]
  },
  {
   "cell_type": "code",
   "execution_count": 47,
   "metadata": {},
   "outputs": [],
   "source": [
    "say_if_minor(pid4343.first_name, pid4343.last_name, pid4343.age)\n",
    "class Patient():\n",
    " def __init__(self, last_name, first_name, age):\n",
    "   self.last_name = last_name\n",
    "   self.first_name = first_name\n",
    "   self.age = age\n",
    " def say_if_minor(self):\n",
    "  if self.age < 21:\n",
    "    print(\"This patient is a minor\")\n",
    " def change_last_name(self, new_last_name):\n",
    "  self.last_name = new_last_name"
   ]
  },
  {
   "cell_type": "code",
   "execution_count": null,
   "metadata": {},
   "outputs": [],
   "source": []
  },
  {
   "cell_type": "code",
   "execution_count": null,
   "metadata": {},
   "outputs": [],
   "source": []
  }
 ],
 "metadata": {
  "kernelspec": {
   "display_name": "Python 3",
   "language": "python",
   "name": "python3"
  },
  "language_info": {
   "codemirror_mode": {
    "name": "ipython",
    "version": 3
   },
   "file_extension": ".py",
   "mimetype": "text/x-python",
   "name": "python",
   "nbconvert_exporter": "python",
   "pygments_lexer": "ipython3",
   "version": "3.6.5"
  }
 },
 "nbformat": 4,
 "nbformat_minor": 2
}
