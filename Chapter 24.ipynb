{
 "cells": [
  {
   "cell_type": "code",
   "execution_count": 1,
   "metadata": {},
   "outputs": [],
   "source": [
    "cleanest_cities = [\"Cheyenne\", \"cheyenne\", \"SantaFe\", \"santa fe\", \"Tucson\", \"tucson\", \"Great Falls\",\n",
    "\"great falls\", \"Honolulu\", \"honolulu\"]"
   ]
  },
  {
   "cell_type": "code",
   "execution_count": 2,
   "metadata": {},
   "outputs": [
    {
     "name": "stdout",
     "output_type": "stream",
     "text": [
      "Enter your city: santa fe\n"
     ]
    }
   ],
   "source": [
    "city_to_check = input(\"Enter your city: \")\n",
    "city_to_check = city_to_check.lower()\n",
    "cleanest_cities = [\"cheyenne\", \"santa fe\",\"tucson\", \"great falls\", \"honolulu\"]"
   ]
  },
  {
   "cell_type": "code",
   "execution_count": 3,
   "metadata": {},
   "outputs": [
    {
     "name": "stdout",
     "output_type": "stream",
     "text": [
      "It's one of the cleanest cities\n"
     ]
    }
   ],
   "source": [
    "for a_clean_city in cleanest_cities:\n",
    "  if city_to_check == a_clean_city:\n",
    "    print(\"It's one of the cleanest cities\")"
   ]
  },
  {
   "cell_type": "code",
   "execution_count": null,
   "metadata": {},
   "outputs": [],
   "source": []
  }
 ],
 "metadata": {
  "kernelspec": {
   "display_name": "Python 3",
   "language": "python",
   "name": "python3"
  },
  "language_info": {
   "codemirror_mode": {
    "name": "ipython",
    "version": 3
   },
   "file_extension": ".py",
   "mimetype": "text/x-python",
   "name": "python",
   "nbconvert_exporter": "python",
   "pygments_lexer": "ipython3",
   "version": "3.6.5"
  }
 },
 "nbformat": 4,
 "nbformat_minor": 2
}
